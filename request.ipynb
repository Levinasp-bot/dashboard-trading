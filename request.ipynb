{
 "cells": [
  {
   "cell_type": "code",
   "execution_count": 3,
   "metadata": {},
   "outputs": [
    {
     "name": "stdout",
     "output_type": "stream",
     "text": [
      "✅ Data berhasil disimpan ke data_saham_MLIA.csv\n"
     ]
    }
   ],
   "source": [
    "import requests\n",
    "import csv\n",
    "from datetime import datetime, timedelta\n",
    "\n",
    "url = \"https://pasardana.id/api/StockSearchResult/GetAll\"\n",
    "\n",
    "start_date = datetime(2025, 3, 10)  \n",
    "end_date = datetime(2025, 3, 12)    \n",
    "\n",
    "headers = {\n",
    "    \"Accept\": \"application/json\",\n",
    "    \"Accept-Encoding\": \"gzip\",\n",
    "    \"Host\": \"pasardana.id\",\n",
    "    \"Pragma\": \"no-cache\",\n",
    "    \"Referer\": \"https://pasardana.id/stock/search\",\n",
    "    \"User-Agent\": \"Mozilla/5.0 (Windows NT 6.1; Win64; x64; rv:47.0) Gecko/20100101 Firefox/47.0\",\n",
    "}\n",
    "\n",
    "# Simpan semua data yang diambil\n",
    "all_data = []\n",
    "\n",
    "# Looping untuk setiap tanggal dalam rentang\n",
    "for i in range((end_date - start_date).days + 1):\n",
    "    tanggal_dicari = (start_date + timedelta(days=i)).strftime(\"%Y-%m-%d\")\n",
    "\n",
    "    # Parameter API\n",
    "    params = {\n",
    "        \"search\": \"MLIA\",  # Kode saham yang diinginkan\n",
    "        \"page\": 1,\n",
    "        \"per_page\": 100,\n",
    "        \"sort_by\": \"Code\",\n",
    "        \"sort_direction\": \"asc\",\n",
    "        \"date\": tanggal_dicari,  # Filter tanggal\n",
    "    }\n",
    "\n",
    "    # Kirim permintaan ke API\n",
    "    response = requests.get(url, params=params, headers=headers)\n",
    "\n",
    "    # Cek respons\n",
    "    if response.status_code == 200:\n",
    "        data = response.json()  # Data berbentuk list\n",
    "\n",
    "        filtered_data = [\n",
    "            {\n",
    "                \"Frequency\": stock.get(\"Frequency\", 0)\n",
    "            }\n",
    "            for stock in data\n",
    "            if stock[\"Code\"] == \"MLIA\" and stock[\"LastDate\"][:10] == tanggal_dicari\n",
    "        ]\n",
    "\n",
    "        # Gabungkan hasilnya\n",
    "        all_data.extend(filtered_data)\n",
    "    else:\n",
    "        print(f\"Error {response.status_code} pada tanggal {tanggal_dicari}, Message: {response.text}\")\n",
    "\n",
    "# Nama file CSV untuk menyimpan data\n",
    "csv_filename = \"data_saham_MLIA.csv\"\n",
    "\n",
    "# Simpan ke file CSV\n",
    "with open(csv_filename, mode=\"w\", newline=\"\", encoding=\"utf-8\") as file:\n",
    "    writer = csv.DictWriter(\n",
    "        file,\n",
    "        fieldnames=[\"Frequency\"]\n",
    "    )\n",
    "    writer.writeheader()  # Tulis header CSV\n",
    "    writer.writerows(all_data)  # Tulis data saham\n",
    "\n",
    "print(f\"✅ Data berhasil disimpan ke {csv_filename}\")"
   ]
  },
  {
   "cell_type": "code",
   "execution_count": null,
   "metadata": {},
   "outputs": [],
   "source": [
    "import requests\n",
    "import pandas as pd\n",
    "import os\n",
    "\n",
    "# URL API\n",
    "url = \"https://pasardana.id/api/StockSearchResult/GetAll\"\n",
    "\n",
    "# Header untuk request API\n",
    "headers = {\n",
    "    \"Accept\": \"application/json\",\n",
    "    \"Accept-Encoding\": \"gzip\",\n",
    "    \"Host\": \"pasardana.id\",\n",
    "    \"Pragma\": \"no-cache\",\n",
    "    \"Referer\": \"https://pasardana.id/stock/search\",\n",
    "    \"User-Agent\": \"Mozilla/5.0 (Windows NT 6.1; Win64; x64; rv:47.0) Gecko/20100101 Firefox/47.0\",\n",
    "}\n",
    "\n",
    "# Daftar saham yang ingin diperbarui\n",
    "saham_list = [\"BBCA\", \"TLKM\", \"BBRI\", \"BMRI\"]  # Bisa ditambah sesuai kebutuhan\n",
    "\n",
    "# Direktori penyimpanan data CSV\n",
    "csv_dir = \"data_saham\"\n",
    "\n",
    "# Pastikan folder penyimpanan CSV ada\n",
    "os.makedirs(csv_dir, exist_ok=True)\n",
    "\n",
    "# Fungsi untuk mengambil data saham dari API\n",
    "def get_stock_data(stock_code):\n",
    "    params = {\n",
    "        \"search\": stock_code,\n",
    "        \"page\": 1,\n",
    "        \"per_page\": 100,\n",
    "        \"sort_by\": \"Code\",\n",
    "        \"sort_direction\": \"asc\",\n",
    "    }\n",
    "    response = requests.get(url, params=params, headers=headers)\n",
    "\n",
    "    if response.status_code == 200:\n",
    "        data = response.json().get(\"Data\", [])\n",
    "        return [\n",
    "            {\n",
    "                \"Date\": stock[\"LastDate\"],\n",
    "                \"Open\": stock[\"AdjustedOpenPrice\"],\n",
    "                \"High\": stock[\"AdjustedHighPrice\"],\n",
    "                \"Low\": stock[\"AdjustedLowPrice\"],\n",
    "                \"Close\": stock[\"AdjustedClosingPrice\"],\n",
    "                \"Volume\": stock[\"Volume\"],\n",
    "                \"Frequency\": stock[\"Frequency\"],\n",
    "            }\n",
    "            for stock in data\n",
    "            if \"LastDate\" in stock\n",
    "        ]\n",
    "    else:\n",
    "        print(f\"Error fetching {stock_code}: {response.status_code}\")\n",
    "        return []\n",
    "\n",
    "# Fungsi untuk memperbarui data CSV saham\n",
    "def update_csv(stock_code, new_data):\n",
    "    csv_file = os.path.join(csv_dir, f\"data_saham_{stock_code}.csv\")\n",
    "\n",
    "    # Jika file tidak ada, buat file baru dengan data baru\n",
    "    if not os.path.exists(csv_file):\n",
    "        df = pd.DataFrame(new_data)\n",
    "        df.to_csv(csv_file, index=False)\n",
    "        print(f\"✅ File baru dibuat: {csv_file}\")\n",
    "        return\n",
    "\n",
    "    # Jika file sudah ada, load data lama\n",
    "    df_old = pd.read_csv(csv_file, parse_dates=[\"Date\"])\n",
    "    df_new = pd.DataFrame(new_data)\n",
    "\n",
    "    # Gabungkan data lama dan baru, lalu hapus duplikasi berdasarkan \"Date\"\n",
    "    df_combined = pd.concat([df_old, df_new]).drop_duplicates(subset=[\"Date\"]).sort_values(by=\"Date\")\n",
    "\n",
    "    # Simpan kembali ke file CSV\n",
    "    df_combined.to_csv(csv_file, index=False)\n",
    "    print(f\"🔄 Data diperbarui: {csv_file}\")\n",
    "\n",
    "# **Proses update untuk setiap saham**\n",
    "for stock in saham_list:\n",
    "    print(f\"📊 Mengupdate {stock}...\")\n",
    "    stock_data = get_stock_data(stock)\n",
    "    if stock_data:\n",
    "        update_csv(stock, stock_data)\n",
    "    else:\n",
    "        print(f\"⚠️ Tidak ada data baru untuk {stock}.\")\n",
    "\n",
    "print(\"✅ Update selesai!\")\n"
   ]
  },
  {
   "cell_type": "code",
   "execution_count": null,
   "metadata": {},
   "outputs": [
    {
     "name": "stdout",
     "output_type": "stream",
     "text": [
      "📂 Ditemukan 68 file saham\n"
     ]
    },
    {
     "name": "stderr",
     "output_type": "stream",
     "text": [
      "C:\\Users\\User\\AppData\\Local\\Temp\\ipykernel_3768\\2165600548.py:55: FutureWarning:\n",
      "\n",
      "DataFrame.fillna with 'method' is deprecated and will raise in a future version. Use obj.ffill() or obj.bfill() instead.\n",
      "\n"
     ]
    },
    {
     "data": {
      "application/vnd.plotly.v1+json": {
       "config": {
        "plotlyServerURL": "https://plot.ly"
       },
       "data": [
        {
         "close": [
          960,
          975,
          975,
          985,
          975,
          975,
          975,
          1040,
          1050,
          1075,
          1050,
          1005,
          1005,
          1005,
          980,
          1000,
          1065,
          1055,
          1100,
          1100,
          1100,
          1150,
          1250,
          1250,
          1250,
          1275,
          1275,
          1275,
          1345,
          1345,
          1345,
          1120,
          1105,
          1105,
          1105,
          1060,
          1120,
          1105,
          1085,
          1130,
          1130,
          1130,
          1120,
          1090,
          1105,
          1095,
          1065,
          1065,
          1065,
          1035,
          1020,
          1020,
          1025,
          1045,
          1045,
          1045,
          1045,
          1045,
          1045,
          1005,
          1000,
          1000,
          1000,
          985,
          965,
          975,
          960,
          945,
          945,
          945,
          895,
          860,
          880,
          885,
          860,
          860,
          860,
          905,
          910,
          905,
          860,
          860,
          860,
          860,
          850,
          875,
          885,
          870,
          850,
          850,
          850,
          870,
          855,
          870,
          870,
          880,
          880,
          880,
          890,
          970,
          960,
          925,
          910
         ],
         "high": [
          990,
          990,
          985,
          990,
          990,
          990,
          990,
          1045,
          1060,
          1140,
          1100,
          1060,
          1060,
          1060,
          1025,
          1020,
          1080,
          1080,
          1110,
          1110,
          1110,
          1170,
          1285,
          1285,
          1285,
          1300,
          1300,
          1300,
          1365,
          1365,
          1365,
          1355,
          1150,
          1150,
          1150,
          1130,
          1150,
          1130,
          1120,
          1130,
          1130,
          1130,
          1155,
          1140,
          1115,
          1110,
          1100,
          1100,
          1100,
          1080,
          1035,
          1040,
          1085,
          1060,
          1060,
          1060,
          1060,
          1060,
          1060,
          1055,
          1010,
          1010,
          1010,
          1000,
          1000,
          975,
          990,
          970,
          970,
          970,
          945,
          910,
          900,
          900,
          910,
          910,
          910,
          910,
          925,
          920,
          905,
          880,
          880,
          880,
          865,
          885,
          895,
          910,
          885,
          885,
          885,
          880,
          875,
          875,
          885,
          890,
          890,
          890,
          890,
          970,
          985,
          965,
          960
         ],
         "low": [
          950,
          960,
          955,
          955,
          950,
          950,
          950,
          980,
          1005,
          1050,
          1050,
          1005,
          1005,
          1005,
          980,
          985,
          990,
          1010,
          1030,
          1030,
          1030,
          1095,
          1150,
          1150,
          1150,
          1150,
          1150,
          1150,
          1235,
          1235,
          1235,
          1105,
          1105,
          1105,
          1105,
          1045,
          1045,
          1080,
          1080,
          1075,
          1075,
          1075,
          1110,
          1090,
          1080,
          1080,
          1055,
          1055,
          1055,
          1025,
          990,
          1000,
          1020,
          1020,
          1020,
          1020,
          1020,
          1020,
          1020,
          1000,
          960,
          960,
          960,
          955,
          965,
          960,
          960,
          945,
          945,
          945,
          860,
          835,
          840,
          865,
          860,
          860,
          860,
          865,
          900,
          875,
          855,
          855,
          855,
          855,
          850,
          850,
          855,
          870,
          850,
          850,
          850,
          855,
          850,
          855,
          865,
          865,
          865,
          865,
          860,
          875,
          945,
          925,
          905
         ],
         "name": "Candlestick",
         "open": [
          0,
          0,
          0,
          0,
          0,
          0,
          0,
          980,
          1050,
          1050,
          1090,
          1050,
          1050,
          1050,
          1000,
          985,
          1000,
          1060,
          1055,
          1055,
          1055,
          1105,
          1150,
          1150,
          1150,
          1270,
          1270,
          1270,
          1275,
          1275,
          1275,
          1345,
          1125,
          1125,
          1125,
          1110,
          1070,
          1120,
          1110,
          1085,
          1085,
          1085,
          1140,
          1120,
          1090,
          1105,
          1085,
          1085,
          1085,
          1065,
          1030,
          1015,
          1030,
          1030,
          1030,
          1030,
          1030,
          1030,
          1030,
          1045,
          1005,
          1005,
          1005,
          1000,
          985,
          975,
          985,
          970,
          970,
          970,
          945,
          895,
          860,
          880,
          885,
          885,
          885,
          865,
          905,
          910,
          905,
          860,
          860,
          860,
          860,
          855,
          880,
          885,
          870,
          870,
          870,
          855,
          870,
          855,
          870,
          870,
          870,
          870,
          880,
          875,
          980,
          965,
          930
         ],
         "type": "candlestick",
         "x": [
          "2024-12-02T00:00:00",
          "2024-12-03T00:00:00",
          "2024-12-04T00:00:00",
          "2024-12-05T00:00:00",
          "2024-12-06T00:00:00",
          "2024-12-07T00:00:00",
          "2024-12-08T00:00:00",
          "2024-12-09T00:00:00",
          "2024-12-10T00:00:00",
          "2024-12-11T00:00:00",
          "2024-12-12T00:00:00",
          "2024-12-13T00:00:00",
          "2024-12-14T00:00:00",
          "2024-12-15T00:00:00",
          "2024-12-16T00:00:00",
          "2024-12-17T00:00:00",
          "2024-12-18T00:00:00",
          "2024-12-19T00:00:00",
          "2024-12-20T00:00:00",
          "2024-12-21T00:00:00",
          "2024-12-22T00:00:00",
          "2024-12-23T00:00:00",
          "2024-12-24T00:00:00",
          "2024-12-25T00:00:00",
          "2024-12-26T00:00:00",
          "2024-12-27T00:00:00",
          "2024-12-28T00:00:00",
          "2024-12-29T00:00:00",
          "2024-12-30T00:00:00",
          "2024-12-31T00:00:00",
          "2025-01-01T00:00:00",
          "2025-01-02T00:00:00",
          "2025-01-03T00:00:00",
          "2025-01-04T00:00:00",
          "2025-01-05T00:00:00",
          "2025-01-06T00:00:00",
          "2025-01-07T00:00:00",
          "2025-01-08T00:00:00",
          "2025-01-09T00:00:00",
          "2025-01-10T00:00:00",
          "2025-01-11T00:00:00",
          "2025-01-12T00:00:00",
          "2025-01-13T00:00:00",
          "2025-01-14T00:00:00",
          "2025-01-15T00:00:00",
          "2025-01-16T00:00:00",
          "2025-01-17T00:00:00",
          "2025-01-18T00:00:00",
          "2025-01-19T00:00:00",
          "2025-01-20T00:00:00",
          "2025-01-21T00:00:00",
          "2025-01-22T00:00:00",
          "2025-01-23T00:00:00",
          "2025-01-24T00:00:00",
          "2025-01-25T00:00:00",
          "2025-01-26T00:00:00",
          "2025-01-27T00:00:00",
          "2025-01-28T00:00:00",
          "2025-01-29T00:00:00",
          "2025-01-30T00:00:00",
          "2025-01-31T00:00:00",
          "2025-02-01T00:00:00",
          "2025-02-02T00:00:00",
          "2025-02-03T00:00:00",
          "2025-02-04T00:00:00",
          "2025-02-05T00:00:00",
          "2025-02-06T00:00:00",
          "2025-02-07T00:00:00",
          "2025-02-08T00:00:00",
          "2025-02-09T00:00:00",
          "2025-02-10T00:00:00",
          "2025-02-11T00:00:00",
          "2025-02-12T00:00:00",
          "2025-02-13T00:00:00",
          "2025-02-14T00:00:00",
          "2025-02-15T00:00:00",
          "2025-02-16T00:00:00",
          "2025-02-17T00:00:00",
          "2025-02-18T00:00:00",
          "2025-02-19T00:00:00",
          "2025-02-20T00:00:00",
          "2025-02-21T00:00:00",
          "2025-02-22T00:00:00",
          "2025-02-23T00:00:00",
          "2025-02-24T00:00:00",
          "2025-02-25T00:00:00",
          "2025-02-26T00:00:00",
          "2025-02-27T00:00:00",
          "2025-02-28T00:00:00",
          "2025-03-01T00:00:00",
          "2025-03-02T00:00:00",
          "2025-03-03T00:00:00",
          "2025-03-04T00:00:00",
          "2025-03-05T00:00:00",
          "2025-03-06T00:00:00",
          "2025-03-07T00:00:00",
          "2025-03-08T00:00:00",
          "2025-03-09T00:00:00",
          "2025-03-10T00:00:00",
          "2025-03-11T00:00:00",
          "2025-03-12T00:00:00",
          "2025-03-13T00:00:00",
          "2025-03-14T00:00:00"
         ]
        }
       ],
       "layout": {
        "template": {
         "data": {
          "bar": [
           {
            "error_x": {
             "color": "#f2f5fa"
            },
            "error_y": {
             "color": "#f2f5fa"
            },
            "marker": {
             "line": {
              "color": "rgb(17,17,17)",
              "width": 0.5
             },
             "pattern": {
              "fillmode": "overlay",
              "size": 10,
              "solidity": 0.2
             }
            },
            "type": "bar"
           }
          ],
          "barpolar": [
           {
            "marker": {
             "line": {
              "color": "rgb(17,17,17)",
              "width": 0.5
             },
             "pattern": {
              "fillmode": "overlay",
              "size": 10,
              "solidity": 0.2
             }
            },
            "type": "barpolar"
           }
          ],
          "carpet": [
           {
            "aaxis": {
             "endlinecolor": "#A2B1C6",
             "gridcolor": "#506784",
             "linecolor": "#506784",
             "minorgridcolor": "#506784",
             "startlinecolor": "#A2B1C6"
            },
            "baxis": {
             "endlinecolor": "#A2B1C6",
             "gridcolor": "#506784",
             "linecolor": "#506784",
             "minorgridcolor": "#506784",
             "startlinecolor": "#A2B1C6"
            },
            "type": "carpet"
           }
          ],
          "choropleth": [
           {
            "colorbar": {
             "outlinewidth": 0,
             "ticks": ""
            },
            "type": "choropleth"
           }
          ],
          "contour": [
           {
            "colorbar": {
             "outlinewidth": 0,
             "ticks": ""
            },
            "colorscale": [
             [
              0,
              "#0d0887"
             ],
             [
              0.1111111111111111,
              "#46039f"
             ],
             [
              0.2222222222222222,
              "#7201a8"
             ],
             [
              0.3333333333333333,
              "#9c179e"
             ],
             [
              0.4444444444444444,
              "#bd3786"
             ],
             [
              0.5555555555555556,
              "#d8576b"
             ],
             [
              0.6666666666666666,
              "#ed7953"
             ],
             [
              0.7777777777777778,
              "#fb9f3a"
             ],
             [
              0.8888888888888888,
              "#fdca26"
             ],
             [
              1,
              "#f0f921"
             ]
            ],
            "type": "contour"
           }
          ],
          "contourcarpet": [
           {
            "colorbar": {
             "outlinewidth": 0,
             "ticks": ""
            },
            "type": "contourcarpet"
           }
          ],
          "heatmap": [
           {
            "colorbar": {
             "outlinewidth": 0,
             "ticks": ""
            },
            "colorscale": [
             [
              0,
              "#0d0887"
             ],
             [
              0.1111111111111111,
              "#46039f"
             ],
             [
              0.2222222222222222,
              "#7201a8"
             ],
             [
              0.3333333333333333,
              "#9c179e"
             ],
             [
              0.4444444444444444,
              "#bd3786"
             ],
             [
              0.5555555555555556,
              "#d8576b"
             ],
             [
              0.6666666666666666,
              "#ed7953"
             ],
             [
              0.7777777777777778,
              "#fb9f3a"
             ],
             [
              0.8888888888888888,
              "#fdca26"
             ],
             [
              1,
              "#f0f921"
             ]
            ],
            "type": "heatmap"
           }
          ],
          "heatmapgl": [
           {
            "colorbar": {
             "outlinewidth": 0,
             "ticks": ""
            },
            "colorscale": [
             [
              0,
              "#0d0887"
             ],
             [
              0.1111111111111111,
              "#46039f"
             ],
             [
              0.2222222222222222,
              "#7201a8"
             ],
             [
              0.3333333333333333,
              "#9c179e"
             ],
             [
              0.4444444444444444,
              "#bd3786"
             ],
             [
              0.5555555555555556,
              "#d8576b"
             ],
             [
              0.6666666666666666,
              "#ed7953"
             ],
             [
              0.7777777777777778,
              "#fb9f3a"
             ],
             [
              0.8888888888888888,
              "#fdca26"
             ],
             [
              1,
              "#f0f921"
             ]
            ],
            "type": "heatmapgl"
           }
          ],
          "histogram": [
           {
            "marker": {
             "pattern": {
              "fillmode": "overlay",
              "size": 10,
              "solidity": 0.2
             }
            },
            "type": "histogram"
           }
          ],
          "histogram2d": [
           {
            "colorbar": {
             "outlinewidth": 0,
             "ticks": ""
            },
            "colorscale": [
             [
              0,
              "#0d0887"
             ],
             [
              0.1111111111111111,
              "#46039f"
             ],
             [
              0.2222222222222222,
              "#7201a8"
             ],
             [
              0.3333333333333333,
              "#9c179e"
             ],
             [
              0.4444444444444444,
              "#bd3786"
             ],
             [
              0.5555555555555556,
              "#d8576b"
             ],
             [
              0.6666666666666666,
              "#ed7953"
             ],
             [
              0.7777777777777778,
              "#fb9f3a"
             ],
             [
              0.8888888888888888,
              "#fdca26"
             ],
             [
              1,
              "#f0f921"
             ]
            ],
            "type": "histogram2d"
           }
          ],
          "histogram2dcontour": [
           {
            "colorbar": {
             "outlinewidth": 0,
             "ticks": ""
            },
            "colorscale": [
             [
              0,
              "#0d0887"
             ],
             [
              0.1111111111111111,
              "#46039f"
             ],
             [
              0.2222222222222222,
              "#7201a8"
             ],
             [
              0.3333333333333333,
              "#9c179e"
             ],
             [
              0.4444444444444444,
              "#bd3786"
             ],
             [
              0.5555555555555556,
              "#d8576b"
             ],
             [
              0.6666666666666666,
              "#ed7953"
             ],
             [
              0.7777777777777778,
              "#fb9f3a"
             ],
             [
              0.8888888888888888,
              "#fdca26"
             ],
             [
              1,
              "#f0f921"
             ]
            ],
            "type": "histogram2dcontour"
           }
          ],
          "mesh3d": [
           {
            "colorbar": {
             "outlinewidth": 0,
             "ticks": ""
            },
            "type": "mesh3d"
           }
          ],
          "parcoords": [
           {
            "line": {
             "colorbar": {
              "outlinewidth": 0,
              "ticks": ""
             }
            },
            "type": "parcoords"
           }
          ],
          "pie": [
           {
            "automargin": true,
            "type": "pie"
           }
          ],
          "scatter": [
           {
            "marker": {
             "line": {
              "color": "#283442"
             }
            },
            "type": "scatter"
           }
          ],
          "scatter3d": [
           {
            "line": {
             "colorbar": {
              "outlinewidth": 0,
              "ticks": ""
             }
            },
            "marker": {
             "colorbar": {
              "outlinewidth": 0,
              "ticks": ""
             }
            },
            "type": "scatter3d"
           }
          ],
          "scattercarpet": [
           {
            "marker": {
             "colorbar": {
              "outlinewidth": 0,
              "ticks": ""
             }
            },
            "type": "scattercarpet"
           }
          ],
          "scattergeo": [
           {
            "marker": {
             "colorbar": {
              "outlinewidth": 0,
              "ticks": ""
             }
            },
            "type": "scattergeo"
           }
          ],
          "scattergl": [
           {
            "marker": {
             "line": {
              "color": "#283442"
             }
            },
            "type": "scattergl"
           }
          ],
          "scattermapbox": [
           {
            "marker": {
             "colorbar": {
              "outlinewidth": 0,
              "ticks": ""
             }
            },
            "type": "scattermapbox"
           }
          ],
          "scatterpolar": [
           {
            "marker": {
             "colorbar": {
              "outlinewidth": 0,
              "ticks": ""
             }
            },
            "type": "scatterpolar"
           }
          ],
          "scatterpolargl": [
           {
            "marker": {
             "colorbar": {
              "outlinewidth": 0,
              "ticks": ""
             }
            },
            "type": "scatterpolargl"
           }
          ],
          "scatterternary": [
           {
            "marker": {
             "colorbar": {
              "outlinewidth": 0,
              "ticks": ""
             }
            },
            "type": "scatterternary"
           }
          ],
          "surface": [
           {
            "colorbar": {
             "outlinewidth": 0,
             "ticks": ""
            },
            "colorscale": [
             [
              0,
              "#0d0887"
             ],
             [
              0.1111111111111111,
              "#46039f"
             ],
             [
              0.2222222222222222,
              "#7201a8"
             ],
             [
              0.3333333333333333,
              "#9c179e"
             ],
             [
              0.4444444444444444,
              "#bd3786"
             ],
             [
              0.5555555555555556,
              "#d8576b"
             ],
             [
              0.6666666666666666,
              "#ed7953"
             ],
             [
              0.7777777777777778,
              "#fb9f3a"
             ],
             [
              0.8888888888888888,
              "#fdca26"
             ],
             [
              1,
              "#f0f921"
             ]
            ],
            "type": "surface"
           }
          ],
          "table": [
           {
            "cells": {
             "fill": {
              "color": "#506784"
             },
             "line": {
              "color": "rgb(17,17,17)"
             }
            },
            "header": {
             "fill": {
              "color": "#2a3f5f"
             },
             "line": {
              "color": "rgb(17,17,17)"
             }
            },
            "type": "table"
           }
          ]
         },
         "layout": {
          "annotationdefaults": {
           "arrowcolor": "#f2f5fa",
           "arrowhead": 0,
           "arrowwidth": 1
          },
          "autotypenumbers": "strict",
          "coloraxis": {
           "colorbar": {
            "outlinewidth": 0,
            "ticks": ""
           }
          },
          "colorscale": {
           "diverging": [
            [
             0,
             "#8e0152"
            ],
            [
             0.1,
             "#c51b7d"
            ],
            [
             0.2,
             "#de77ae"
            ],
            [
             0.3,
             "#f1b6da"
            ],
            [
             0.4,
             "#fde0ef"
            ],
            [
             0.5,
             "#f7f7f7"
            ],
            [
             0.6,
             "#e6f5d0"
            ],
            [
             0.7,
             "#b8e186"
            ],
            [
             0.8,
             "#7fbc41"
            ],
            [
             0.9,
             "#4d9221"
            ],
            [
             1,
             "#276419"
            ]
           ],
           "sequential": [
            [
             0,
             "#0d0887"
            ],
            [
             0.1111111111111111,
             "#46039f"
            ],
            [
             0.2222222222222222,
             "#7201a8"
            ],
            [
             0.3333333333333333,
             "#9c179e"
            ],
            [
             0.4444444444444444,
             "#bd3786"
            ],
            [
             0.5555555555555556,
             "#d8576b"
            ],
            [
             0.6666666666666666,
             "#ed7953"
            ],
            [
             0.7777777777777778,
             "#fb9f3a"
            ],
            [
             0.8888888888888888,
             "#fdca26"
            ],
            [
             1,
             "#f0f921"
            ]
           ],
           "sequentialminus": [
            [
             0,
             "#0d0887"
            ],
            [
             0.1111111111111111,
             "#46039f"
            ],
            [
             0.2222222222222222,
             "#7201a8"
            ],
            [
             0.3333333333333333,
             "#9c179e"
            ],
            [
             0.4444444444444444,
             "#bd3786"
            ],
            [
             0.5555555555555556,
             "#d8576b"
            ],
            [
             0.6666666666666666,
             "#ed7953"
            ],
            [
             0.7777777777777778,
             "#fb9f3a"
            ],
            [
             0.8888888888888888,
             "#fdca26"
            ],
            [
             1,
             "#f0f921"
            ]
           ]
          },
          "colorway": [
           "#636efa",
           "#EF553B",
           "#00cc96",
           "#ab63fa",
           "#FFA15A",
           "#19d3f3",
           "#FF6692",
           "#B6E880",
           "#FF97FF",
           "#FECB52"
          ],
          "font": {
           "color": "#f2f5fa"
          },
          "geo": {
           "bgcolor": "rgb(17,17,17)",
           "lakecolor": "rgb(17,17,17)",
           "landcolor": "rgb(17,17,17)",
           "showlakes": true,
           "showland": true,
           "subunitcolor": "#506784"
          },
          "hoverlabel": {
           "align": "left"
          },
          "hovermode": "closest",
          "mapbox": {
           "style": "dark"
          },
          "paper_bgcolor": "rgb(17,17,17)",
          "plot_bgcolor": "rgb(17,17,17)",
          "polar": {
           "angularaxis": {
            "gridcolor": "#506784",
            "linecolor": "#506784",
            "ticks": ""
           },
           "bgcolor": "rgb(17,17,17)",
           "radialaxis": {
            "gridcolor": "#506784",
            "linecolor": "#506784",
            "ticks": ""
           }
          },
          "scene": {
           "xaxis": {
            "backgroundcolor": "rgb(17,17,17)",
            "gridcolor": "#506784",
            "gridwidth": 2,
            "linecolor": "#506784",
            "showbackground": true,
            "ticks": "",
            "zerolinecolor": "#C8D4E3"
           },
           "yaxis": {
            "backgroundcolor": "rgb(17,17,17)",
            "gridcolor": "#506784",
            "gridwidth": 2,
            "linecolor": "#506784",
            "showbackground": true,
            "ticks": "",
            "zerolinecolor": "#C8D4E3"
           },
           "zaxis": {
            "backgroundcolor": "rgb(17,17,17)",
            "gridcolor": "#506784",
            "gridwidth": 2,
            "linecolor": "#506784",
            "showbackground": true,
            "ticks": "",
            "zerolinecolor": "#C8D4E3"
           }
          },
          "shapedefaults": {
           "line": {
            "color": "#f2f5fa"
           }
          },
          "sliderdefaults": {
           "bgcolor": "#C8D4E3",
           "bordercolor": "rgb(17,17,17)",
           "borderwidth": 1,
           "tickwidth": 0
          },
          "ternary": {
           "aaxis": {
            "gridcolor": "#506784",
            "linecolor": "#506784",
            "ticks": ""
           },
           "baxis": {
            "gridcolor": "#506784",
            "linecolor": "#506784",
            "ticks": ""
           },
           "bgcolor": "rgb(17,17,17)",
           "caxis": {
            "gridcolor": "#506784",
            "linecolor": "#506784",
            "ticks": ""
           }
          },
          "title": {
           "x": 0.05
          },
          "updatemenudefaults": {
           "bgcolor": "#506784",
           "borderwidth": 0
          },
          "xaxis": {
           "automargin": true,
           "gridcolor": "#283442",
           "linecolor": "#506784",
           "ticks": "",
           "title": {
            "standoff": 15
           },
           "zerolinecolor": "#283442",
           "zerolinewidth": 2
          },
          "yaxis": {
           "automargin": true,
           "gridcolor": "#283442",
           "linecolor": "#506784",
           "ticks": "",
           "title": {
            "standoff": 15
           },
           "zerolinecolor": "#283442",
           "zerolinewidth": 2
          }
         }
        },
        "title": {
         "text": "Candlestick Chart: SSIA"
        },
        "xaxis": {
         "rangeslider": {
          "visible": false
         },
         "title": {
          "text": "Tanggal"
         }
        },
        "yaxis": {
         "title": {
          "text": "Harga"
         }
        }
       }
      }
     },
     "metadata": {},
     "output_type": "display_data"
    },
    {
     "data": {
      "application/vnd.plotly.v1+json": {
       "config": {
        "plotlyServerURL": "https://plot.ly"
       },
       "data": [
        {
         "line": {
          "color": "green",
          "width": 1
         },
         "mode": "lines",
         "name": "Frequency Analyzer",
         "type": "scatter",
         "x": [
          "2024-12-02T00:00:00",
          "2024-12-03T00:00:00",
          "2024-12-04T00:00:00",
          "2024-12-05T00:00:00",
          "2024-12-06T00:00:00",
          "2024-12-07T00:00:00",
          "2024-12-08T00:00:00",
          "2024-12-09T00:00:00",
          "2024-12-10T00:00:00",
          "2024-12-11T00:00:00",
          "2024-12-12T00:00:00",
          "2024-12-13T00:00:00",
          "2024-12-14T00:00:00",
          "2024-12-15T00:00:00",
          "2024-12-16T00:00:00",
          "2024-12-17T00:00:00",
          "2024-12-18T00:00:00",
          "2024-12-19T00:00:00",
          "2024-12-20T00:00:00",
          "2024-12-21T00:00:00",
          "2024-12-22T00:00:00",
          "2024-12-23T00:00:00",
          "2024-12-24T00:00:00",
          "2024-12-25T00:00:00",
          "2024-12-26T00:00:00",
          "2024-12-27T00:00:00",
          "2024-12-28T00:00:00",
          "2024-12-29T00:00:00",
          "2024-12-30T00:00:00",
          "2024-12-31T00:00:00",
          "2025-01-01T00:00:00",
          "2025-01-02T00:00:00",
          "2025-01-03T00:00:00",
          "2025-01-04T00:00:00",
          "2025-01-05T00:00:00",
          "2025-01-06T00:00:00",
          "2025-01-07T00:00:00",
          "2025-01-08T00:00:00",
          "2025-01-09T00:00:00",
          "2025-01-10T00:00:00",
          "2025-01-11T00:00:00",
          "2025-01-12T00:00:00",
          "2025-01-13T00:00:00",
          "2025-01-14T00:00:00",
          "2025-01-15T00:00:00",
          "2025-01-16T00:00:00",
          "2025-01-17T00:00:00",
          "2025-01-18T00:00:00",
          "2025-01-19T00:00:00",
          "2025-01-20T00:00:00",
          "2025-01-21T00:00:00",
          "2025-01-22T00:00:00",
          "2025-01-23T00:00:00",
          "2025-01-24T00:00:00",
          "2025-01-25T00:00:00",
          "2025-01-26T00:00:00",
          "2025-01-27T00:00:00",
          "2025-01-28T00:00:00",
          "2025-01-29T00:00:00",
          "2025-01-30T00:00:00",
          "2025-01-31T00:00:00",
          "2025-02-01T00:00:00",
          "2025-02-02T00:00:00",
          "2025-02-03T00:00:00",
          "2025-02-04T00:00:00",
          "2025-02-05T00:00:00",
          "2025-02-06T00:00:00",
          "2025-02-07T00:00:00",
          "2025-02-08T00:00:00",
          "2025-02-09T00:00:00",
          "2025-02-10T00:00:00",
          "2025-02-11T00:00:00",
          "2025-02-12T00:00:00",
          "2025-02-13T00:00:00",
          "2025-02-14T00:00:00",
          "2025-02-15T00:00:00",
          "2025-02-16T00:00:00",
          "2025-02-17T00:00:00",
          "2025-02-18T00:00:00",
          "2025-02-19T00:00:00",
          "2025-02-20T00:00:00",
          "2025-02-21T00:00:00",
          "2025-02-22T00:00:00",
          "2025-02-23T00:00:00",
          "2025-02-24T00:00:00",
          "2025-02-25T00:00:00",
          "2025-02-26T00:00:00",
          "2025-02-27T00:00:00",
          "2025-02-28T00:00:00",
          "2025-03-01T00:00:00",
          "2025-03-02T00:00:00",
          "2025-03-03T00:00:00",
          "2025-03-04T00:00:00",
          "2025-03-05T00:00:00",
          "2025-03-06T00:00:00",
          "2025-03-07T00:00:00",
          "2025-03-08T00:00:00",
          "2025-03-09T00:00:00",
          "2025-03-10T00:00:00",
          "2025-03-11T00:00:00",
          "2025-03-12T00:00:00",
          "2025-03-13T00:00:00",
          "2025-03-14T00:00:00"
         ],
         "y": [
          869.7169116835512,
          977.9344250432132,
          925.144982375494,
          998.9291620266497,
          927.6794898808706,
          927.6794898808706,
          927.6794898808706,
          884.7180224892687,
          880.6485502705897,
          864.145213888161,
          857.968845659193,
          918.6124078478068,
          918.6124078478068,
          918.6124078478068,
          882.1520795712664,
          852.5542326767167,
          835,
          863.0577046506223,
          880.2275157180413,
          880.2275157180413,
          880.2275157180413,
          836.9142289335192,
          842.3340446887146,
          842.3340446887146,
          842.3340446887146,
          846.1810234290313,
          846.1810234290313,
          846.1810234290313,
          852.5911873040902,
          852.5911873040902,
          852.5911873040902,
          838.1319015205869,
          838.6689488613667,
          838.6689488613667,
          838.6689488613667,
          847.2767685048113,
          841.1193267022817,
          840.3501214992397,
          842.8183679924268,
          840.5310962854169,
          840.5310962854169,
          840.5310962854169,
          840.1211621746713,
          843.3521577958709,
          839.3040269869967,
          838.338880028256,
          849.4864841075537,
          849.4864841075537,
          849.4864841075537,
          875.2769221109677,
          863.4344803506086,
          844.1373760577484,
          839.9173740759745,
          848.8879551516142,
          848.8879551516142,
          848.8879551516142,
          848.8879551516142,
          848.8879551516142,
          848.8879551516142,
          862.4130500830016,
          879.5912238635538,
          879.5912238635538,
          879.5912238635538,
          853.0082357901389,
          854.978834565168,
          923.6829110602516,
          924.1646310060613,
          838.4441129590883,
          838.4441129590883,
          838.4441129590883,
          855.198833964289,
          999.6687934108562,
          856.2340044556831,
          894.9465769591557,
          902.4769511796562,
          902.4769511796562,
          902.4769511796562,
          873.3448692828667,
          858.8489930326328,
          855.2867786576055,
          861.7242655983641,
          923.2059119407631,
          923.2059119407631,
          923.2059119407631,
          1201.059622042473,
          910.1825525036463,
          891.3016026765432,
          852.9442567111641,
          870.3962654361416,
          870.3962654361416,
          870.3962654361416,
          1365,
          915.4246007381539,
          924.7974888991039,
          950.320427892331,
          917.2676369150917,
          917.2676369150917,
          917.2676369150917,
          851.9483989579105,
          843.1095273801128,
          840.3125711170995,
          869.4594907067258,
          863.0489797816834
         ]
        },
        {
         "line": {
          "color": "orange",
          "width": 1
         },
         "mode": "lines",
         "name": "Harga Penutupan",
         "type": "scatter",
         "x": [
          "2024-12-02T00:00:00",
          "2024-12-03T00:00:00",
          "2024-12-04T00:00:00",
          "2024-12-05T00:00:00",
          "2024-12-06T00:00:00",
          "2024-12-07T00:00:00",
          "2024-12-08T00:00:00",
          "2024-12-09T00:00:00",
          "2024-12-10T00:00:00",
          "2024-12-11T00:00:00",
          "2024-12-12T00:00:00",
          "2024-12-13T00:00:00",
          "2024-12-14T00:00:00",
          "2024-12-15T00:00:00",
          "2024-12-16T00:00:00",
          "2024-12-17T00:00:00",
          "2024-12-18T00:00:00",
          "2024-12-19T00:00:00",
          "2024-12-20T00:00:00",
          "2024-12-21T00:00:00",
          "2024-12-22T00:00:00",
          "2024-12-23T00:00:00",
          "2024-12-24T00:00:00",
          "2024-12-25T00:00:00",
          "2024-12-26T00:00:00",
          "2024-12-27T00:00:00",
          "2024-12-28T00:00:00",
          "2024-12-29T00:00:00",
          "2024-12-30T00:00:00",
          "2024-12-31T00:00:00",
          "2025-01-01T00:00:00",
          "2025-01-02T00:00:00",
          "2025-01-03T00:00:00",
          "2025-01-04T00:00:00",
          "2025-01-05T00:00:00",
          "2025-01-06T00:00:00",
          "2025-01-07T00:00:00",
          "2025-01-08T00:00:00",
          "2025-01-09T00:00:00",
          "2025-01-10T00:00:00",
          "2025-01-11T00:00:00",
          "2025-01-12T00:00:00",
          "2025-01-13T00:00:00",
          "2025-01-14T00:00:00",
          "2025-01-15T00:00:00",
          "2025-01-16T00:00:00",
          "2025-01-17T00:00:00",
          "2025-01-18T00:00:00",
          "2025-01-19T00:00:00",
          "2025-01-20T00:00:00",
          "2025-01-21T00:00:00",
          "2025-01-22T00:00:00",
          "2025-01-23T00:00:00",
          "2025-01-24T00:00:00",
          "2025-01-25T00:00:00",
          "2025-01-26T00:00:00",
          "2025-01-27T00:00:00",
          "2025-01-28T00:00:00",
          "2025-01-29T00:00:00",
          "2025-01-30T00:00:00",
          "2025-01-31T00:00:00",
          "2025-02-01T00:00:00",
          "2025-02-02T00:00:00",
          "2025-02-03T00:00:00",
          "2025-02-04T00:00:00",
          "2025-02-05T00:00:00",
          "2025-02-06T00:00:00",
          "2025-02-07T00:00:00",
          "2025-02-08T00:00:00",
          "2025-02-09T00:00:00",
          "2025-02-10T00:00:00",
          "2025-02-11T00:00:00",
          "2025-02-12T00:00:00",
          "2025-02-13T00:00:00",
          "2025-02-14T00:00:00",
          "2025-02-15T00:00:00",
          "2025-02-16T00:00:00",
          "2025-02-17T00:00:00",
          "2025-02-18T00:00:00",
          "2025-02-19T00:00:00",
          "2025-02-20T00:00:00",
          "2025-02-21T00:00:00",
          "2025-02-22T00:00:00",
          "2025-02-23T00:00:00",
          "2025-02-24T00:00:00",
          "2025-02-25T00:00:00",
          "2025-02-26T00:00:00",
          "2025-02-27T00:00:00",
          "2025-02-28T00:00:00",
          "2025-03-01T00:00:00",
          "2025-03-02T00:00:00",
          "2025-03-03T00:00:00",
          "2025-03-04T00:00:00",
          "2025-03-05T00:00:00",
          "2025-03-06T00:00:00",
          "2025-03-07T00:00:00",
          "2025-03-08T00:00:00",
          "2025-03-09T00:00:00",
          "2025-03-10T00:00:00",
          "2025-03-11T00:00:00",
          "2025-03-12T00:00:00",
          "2025-03-13T00:00:00",
          "2025-03-14T00:00:00"
         ],
         "y": [
          960,
          975,
          975,
          985,
          975,
          975,
          975,
          1040,
          1050,
          1075,
          1050,
          1005,
          1005,
          1005,
          980,
          1000,
          1065,
          1055,
          1100,
          1100,
          1100,
          1150,
          1250,
          1250,
          1250,
          1275,
          1275,
          1275,
          1345,
          1345,
          1345,
          1120,
          1105,
          1105,
          1105,
          1060,
          1120,
          1105,
          1085,
          1130,
          1130,
          1130,
          1120,
          1090,
          1105,
          1095,
          1065,
          1065,
          1065,
          1035,
          1020,
          1020,
          1025,
          1045,
          1045,
          1045,
          1045,
          1045,
          1045,
          1005,
          1000,
          1000,
          1000,
          985,
          965,
          975,
          960,
          945,
          945,
          945,
          895,
          860,
          880,
          885,
          860,
          860,
          860,
          905,
          910,
          905,
          860,
          860,
          860,
          860,
          850,
          875,
          885,
          870,
          850,
          850,
          850,
          870,
          855,
          870,
          870,
          880,
          880,
          880,
          890,
          970,
          960,
          925,
          910
         ]
        }
       ],
       "layout": {
        "template": {
         "data": {
          "bar": [
           {
            "error_x": {
             "color": "#f2f5fa"
            },
            "error_y": {
             "color": "#f2f5fa"
            },
            "marker": {
             "line": {
              "color": "rgb(17,17,17)",
              "width": 0.5
             },
             "pattern": {
              "fillmode": "overlay",
              "size": 10,
              "solidity": 0.2
             }
            },
            "type": "bar"
           }
          ],
          "barpolar": [
           {
            "marker": {
             "line": {
              "color": "rgb(17,17,17)",
              "width": 0.5
             },
             "pattern": {
              "fillmode": "overlay",
              "size": 10,
              "solidity": 0.2
             }
            },
            "type": "barpolar"
           }
          ],
          "carpet": [
           {
            "aaxis": {
             "endlinecolor": "#A2B1C6",
             "gridcolor": "#506784",
             "linecolor": "#506784",
             "minorgridcolor": "#506784",
             "startlinecolor": "#A2B1C6"
            },
            "baxis": {
             "endlinecolor": "#A2B1C6",
             "gridcolor": "#506784",
             "linecolor": "#506784",
             "minorgridcolor": "#506784",
             "startlinecolor": "#A2B1C6"
            },
            "type": "carpet"
           }
          ],
          "choropleth": [
           {
            "colorbar": {
             "outlinewidth": 0,
             "ticks": ""
            },
            "type": "choropleth"
           }
          ],
          "contour": [
           {
            "colorbar": {
             "outlinewidth": 0,
             "ticks": ""
            },
            "colorscale": [
             [
              0,
              "#0d0887"
             ],
             [
              0.1111111111111111,
              "#46039f"
             ],
             [
              0.2222222222222222,
              "#7201a8"
             ],
             [
              0.3333333333333333,
              "#9c179e"
             ],
             [
              0.4444444444444444,
              "#bd3786"
             ],
             [
              0.5555555555555556,
              "#d8576b"
             ],
             [
              0.6666666666666666,
              "#ed7953"
             ],
             [
              0.7777777777777778,
              "#fb9f3a"
             ],
             [
              0.8888888888888888,
              "#fdca26"
             ],
             [
              1,
              "#f0f921"
             ]
            ],
            "type": "contour"
           }
          ],
          "contourcarpet": [
           {
            "colorbar": {
             "outlinewidth": 0,
             "ticks": ""
            },
            "type": "contourcarpet"
           }
          ],
          "heatmap": [
           {
            "colorbar": {
             "outlinewidth": 0,
             "ticks": ""
            },
            "colorscale": [
             [
              0,
              "#0d0887"
             ],
             [
              0.1111111111111111,
              "#46039f"
             ],
             [
              0.2222222222222222,
              "#7201a8"
             ],
             [
              0.3333333333333333,
              "#9c179e"
             ],
             [
              0.4444444444444444,
              "#bd3786"
             ],
             [
              0.5555555555555556,
              "#d8576b"
             ],
             [
              0.6666666666666666,
              "#ed7953"
             ],
             [
              0.7777777777777778,
              "#fb9f3a"
             ],
             [
              0.8888888888888888,
              "#fdca26"
             ],
             [
              1,
              "#f0f921"
             ]
            ],
            "type": "heatmap"
           }
          ],
          "heatmapgl": [
           {
            "colorbar": {
             "outlinewidth": 0,
             "ticks": ""
            },
            "colorscale": [
             [
              0,
              "#0d0887"
             ],
             [
              0.1111111111111111,
              "#46039f"
             ],
             [
              0.2222222222222222,
              "#7201a8"
             ],
             [
              0.3333333333333333,
              "#9c179e"
             ],
             [
              0.4444444444444444,
              "#bd3786"
             ],
             [
              0.5555555555555556,
              "#d8576b"
             ],
             [
              0.6666666666666666,
              "#ed7953"
             ],
             [
              0.7777777777777778,
              "#fb9f3a"
             ],
             [
              0.8888888888888888,
              "#fdca26"
             ],
             [
              1,
              "#f0f921"
             ]
            ],
            "type": "heatmapgl"
           }
          ],
          "histogram": [
           {
            "marker": {
             "pattern": {
              "fillmode": "overlay",
              "size": 10,
              "solidity": 0.2
             }
            },
            "type": "histogram"
           }
          ],
          "histogram2d": [
           {
            "colorbar": {
             "outlinewidth": 0,
             "ticks": ""
            },
            "colorscale": [
             [
              0,
              "#0d0887"
             ],
             [
              0.1111111111111111,
              "#46039f"
             ],
             [
              0.2222222222222222,
              "#7201a8"
             ],
             [
              0.3333333333333333,
              "#9c179e"
             ],
             [
              0.4444444444444444,
              "#bd3786"
             ],
             [
              0.5555555555555556,
              "#d8576b"
             ],
             [
              0.6666666666666666,
              "#ed7953"
             ],
             [
              0.7777777777777778,
              "#fb9f3a"
             ],
             [
              0.8888888888888888,
              "#fdca26"
             ],
             [
              1,
              "#f0f921"
             ]
            ],
            "type": "histogram2d"
           }
          ],
          "histogram2dcontour": [
           {
            "colorbar": {
             "outlinewidth": 0,
             "ticks": ""
            },
            "colorscale": [
             [
              0,
              "#0d0887"
             ],
             [
              0.1111111111111111,
              "#46039f"
             ],
             [
              0.2222222222222222,
              "#7201a8"
             ],
             [
              0.3333333333333333,
              "#9c179e"
             ],
             [
              0.4444444444444444,
              "#bd3786"
             ],
             [
              0.5555555555555556,
              "#d8576b"
             ],
             [
              0.6666666666666666,
              "#ed7953"
             ],
             [
              0.7777777777777778,
              "#fb9f3a"
             ],
             [
              0.8888888888888888,
              "#fdca26"
             ],
             [
              1,
              "#f0f921"
             ]
            ],
            "type": "histogram2dcontour"
           }
          ],
          "mesh3d": [
           {
            "colorbar": {
             "outlinewidth": 0,
             "ticks": ""
            },
            "type": "mesh3d"
           }
          ],
          "parcoords": [
           {
            "line": {
             "colorbar": {
              "outlinewidth": 0,
              "ticks": ""
             }
            },
            "type": "parcoords"
           }
          ],
          "pie": [
           {
            "automargin": true,
            "type": "pie"
           }
          ],
          "scatter": [
           {
            "marker": {
             "line": {
              "color": "#283442"
             }
            },
            "type": "scatter"
           }
          ],
          "scatter3d": [
           {
            "line": {
             "colorbar": {
              "outlinewidth": 0,
              "ticks": ""
             }
            },
            "marker": {
             "colorbar": {
              "outlinewidth": 0,
              "ticks": ""
             }
            },
            "type": "scatter3d"
           }
          ],
          "scattercarpet": [
           {
            "marker": {
             "colorbar": {
              "outlinewidth": 0,
              "ticks": ""
             }
            },
            "type": "scattercarpet"
           }
          ],
          "scattergeo": [
           {
            "marker": {
             "colorbar": {
              "outlinewidth": 0,
              "ticks": ""
             }
            },
            "type": "scattergeo"
           }
          ],
          "scattergl": [
           {
            "marker": {
             "line": {
              "color": "#283442"
             }
            },
            "type": "scattergl"
           }
          ],
          "scattermapbox": [
           {
            "marker": {
             "colorbar": {
              "outlinewidth": 0,
              "ticks": ""
             }
            },
            "type": "scattermapbox"
           }
          ],
          "scatterpolar": [
           {
            "marker": {
             "colorbar": {
              "outlinewidth": 0,
              "ticks": ""
             }
            },
            "type": "scatterpolar"
           }
          ],
          "scatterpolargl": [
           {
            "marker": {
             "colorbar": {
              "outlinewidth": 0,
              "ticks": ""
             }
            },
            "type": "scatterpolargl"
           }
          ],
          "scatterternary": [
           {
            "marker": {
             "colorbar": {
              "outlinewidth": 0,
              "ticks": ""
             }
            },
            "type": "scatterternary"
           }
          ],
          "surface": [
           {
            "colorbar": {
             "outlinewidth": 0,
             "ticks": ""
            },
            "colorscale": [
             [
              0,
              "#0d0887"
             ],
             [
              0.1111111111111111,
              "#46039f"
             ],
             [
              0.2222222222222222,
              "#7201a8"
             ],
             [
              0.3333333333333333,
              "#9c179e"
             ],
             [
              0.4444444444444444,
              "#bd3786"
             ],
             [
              0.5555555555555556,
              "#d8576b"
             ],
             [
              0.6666666666666666,
              "#ed7953"
             ],
             [
              0.7777777777777778,
              "#fb9f3a"
             ],
             [
              0.8888888888888888,
              "#fdca26"
             ],
             [
              1,
              "#f0f921"
             ]
            ],
            "type": "surface"
           }
          ],
          "table": [
           {
            "cells": {
             "fill": {
              "color": "#506784"
             },
             "line": {
              "color": "rgb(17,17,17)"
             }
            },
            "header": {
             "fill": {
              "color": "#2a3f5f"
             },
             "line": {
              "color": "rgb(17,17,17)"
             }
            },
            "type": "table"
           }
          ]
         },
         "layout": {
          "annotationdefaults": {
           "arrowcolor": "#f2f5fa",
           "arrowhead": 0,
           "arrowwidth": 1
          },
          "autotypenumbers": "strict",
          "coloraxis": {
           "colorbar": {
            "outlinewidth": 0,
            "ticks": ""
           }
          },
          "colorscale": {
           "diverging": [
            [
             0,
             "#8e0152"
            ],
            [
             0.1,
             "#c51b7d"
            ],
            [
             0.2,
             "#de77ae"
            ],
            [
             0.3,
             "#f1b6da"
            ],
            [
             0.4,
             "#fde0ef"
            ],
            [
             0.5,
             "#f7f7f7"
            ],
            [
             0.6,
             "#e6f5d0"
            ],
            [
             0.7,
             "#b8e186"
            ],
            [
             0.8,
             "#7fbc41"
            ],
            [
             0.9,
             "#4d9221"
            ],
            [
             1,
             "#276419"
            ]
           ],
           "sequential": [
            [
             0,
             "#0d0887"
            ],
            [
             0.1111111111111111,
             "#46039f"
            ],
            [
             0.2222222222222222,
             "#7201a8"
            ],
            [
             0.3333333333333333,
             "#9c179e"
            ],
            [
             0.4444444444444444,
             "#bd3786"
            ],
            [
             0.5555555555555556,
             "#d8576b"
            ],
            [
             0.6666666666666666,
             "#ed7953"
            ],
            [
             0.7777777777777778,
             "#fb9f3a"
            ],
            [
             0.8888888888888888,
             "#fdca26"
            ],
            [
             1,
             "#f0f921"
            ]
           ],
           "sequentialminus": [
            [
             0,
             "#0d0887"
            ],
            [
             0.1111111111111111,
             "#46039f"
            ],
            [
             0.2222222222222222,
             "#7201a8"
            ],
            [
             0.3333333333333333,
             "#9c179e"
            ],
            [
             0.4444444444444444,
             "#bd3786"
            ],
            [
             0.5555555555555556,
             "#d8576b"
            ],
            [
             0.6666666666666666,
             "#ed7953"
            ],
            [
             0.7777777777777778,
             "#fb9f3a"
            ],
            [
             0.8888888888888888,
             "#fdca26"
            ],
            [
             1,
             "#f0f921"
            ]
           ]
          },
          "colorway": [
           "#636efa",
           "#EF553B",
           "#00cc96",
           "#ab63fa",
           "#FFA15A",
           "#19d3f3",
           "#FF6692",
           "#B6E880",
           "#FF97FF",
           "#FECB52"
          ],
          "font": {
           "color": "#f2f5fa"
          },
          "geo": {
           "bgcolor": "rgb(17,17,17)",
           "lakecolor": "rgb(17,17,17)",
           "landcolor": "rgb(17,17,17)",
           "showlakes": true,
           "showland": true,
           "subunitcolor": "#506784"
          },
          "hoverlabel": {
           "align": "left"
          },
          "hovermode": "closest",
          "mapbox": {
           "style": "dark"
          },
          "paper_bgcolor": "rgb(17,17,17)",
          "plot_bgcolor": "rgb(17,17,17)",
          "polar": {
           "angularaxis": {
            "gridcolor": "#506784",
            "linecolor": "#506784",
            "ticks": ""
           },
           "bgcolor": "rgb(17,17,17)",
           "radialaxis": {
            "gridcolor": "#506784",
            "linecolor": "#506784",
            "ticks": ""
           }
          },
          "scene": {
           "xaxis": {
            "backgroundcolor": "rgb(17,17,17)",
            "gridcolor": "#506784",
            "gridwidth": 2,
            "linecolor": "#506784",
            "showbackground": true,
            "ticks": "",
            "zerolinecolor": "#C8D4E3"
           },
           "yaxis": {
            "backgroundcolor": "rgb(17,17,17)",
            "gridcolor": "#506784",
            "gridwidth": 2,
            "linecolor": "#506784",
            "showbackground": true,
            "ticks": "",
            "zerolinecolor": "#C8D4E3"
           },
           "zaxis": {
            "backgroundcolor": "rgb(17,17,17)",
            "gridcolor": "#506784",
            "gridwidth": 2,
            "linecolor": "#506784",
            "showbackground": true,
            "ticks": "",
            "zerolinecolor": "#C8D4E3"
           }
          },
          "shapedefaults": {
           "line": {
            "color": "#f2f5fa"
           }
          },
          "sliderdefaults": {
           "bgcolor": "#C8D4E3",
           "bordercolor": "rgb(17,17,17)",
           "borderwidth": 1,
           "tickwidth": 0
          },
          "ternary": {
           "aaxis": {
            "gridcolor": "#506784",
            "linecolor": "#506784",
            "ticks": ""
           },
           "baxis": {
            "gridcolor": "#506784",
            "linecolor": "#506784",
            "ticks": ""
           },
           "bgcolor": "rgb(17,17,17)",
           "caxis": {
            "gridcolor": "#506784",
            "linecolor": "#506784",
            "ticks": ""
           }
          },
          "title": {
           "x": 0.05
          },
          "updatemenudefaults": {
           "bgcolor": "#506784",
           "borderwidth": 0
          },
          "xaxis": {
           "automargin": true,
           "gridcolor": "#283442",
           "linecolor": "#506784",
           "ticks": "",
           "title": {
            "standoff": 15
           },
           "zerolinecolor": "#283442",
           "zerolinewidth": 2
          },
          "yaxis": {
           "automargin": true,
           "gridcolor": "#283442",
           "linecolor": "#506784",
           "ticks": "",
           "title": {
            "standoff": 15
           },
           "zerolinecolor": "#283442",
           "zerolinewidth": 2
          }
         }
        },
        "title": {
         "text": "Frequency Analyzer with Price Overlay"
        },
        "xaxis": {
         "title": {
          "text": "Tanggal"
         }
        },
        "yaxis": {
         "title": {
          "text": "Harga"
         }
        }
       }
      }
     },
     "metadata": {},
     "output_type": "display_data"
    }
   ],
   "source": [
    "import pandas as pd\n",
    "import glob\n",
    "import os\n",
    "import plotly.graph_objects as go\n",
    "\n",
    "# Path ke folder tempat menyimpan file saham\n",
    "folder_path = \"data saham/\"\n",
    "\n",
    "# Cari semua file Ringkasan Saham di folder\n",
    "file_list = glob.glob(os.path.join(folder_path, \"Ringkasan Saham-*.xlsx\"))\n",
    "\n",
    "if not file_list:\n",
    "    print(\"❌ Tidak ditemukan file Ringkasan Saham di folder 'data saham'\")\n",
    "else:\n",
    "    print(f\"📂 Ditemukan {len(file_list)} file saham\")\n",
    "\n",
    "    # Buat list untuk menyimpan semua data\n",
    "    all_data = []\n",
    "\n",
    "    # Loop melalui setiap file dan baca datanya\n",
    "    for file in file_list:\n",
    "        df = pd.read_excel(file)\n",
    "\n",
    "        # Ekstrak tanggal dari nama file (format: Ringkasan Saham-YYYYMMDD.xlsx)\n",
    "        filename = os.path.basename(file)\n",
    "        date_str = filename.split(\"-\")[-1].split(\".\")[0]  # Ambil bagian tanggal dari nama file\n",
    "        df[\"Tanggal\"] = pd.to_datetime(date_str, format=\"%Y%m%d\")  # Konversi ke datetime\n",
    "\n",
    "        all_data.append(df)\n",
    "\n",
    "    # Gabungkan semua data menjadi satu DataFrame\n",
    "    df_all = pd.concat(all_data, ignore_index=True)\n",
    "\n",
    "    # Pastikan kolom yang dibutuhkan ada\n",
    "    required_columns = {\"Kode Saham\", \"Open Price\", \"Tertinggi\", \"Terendah\", \"Penutupan\", \"Volume\", \"Frekuensi\"}\n",
    "    if not required_columns.issubset(df_all.columns):\n",
    "        print(\"⚠️ Struktur kolom tidak sesuai. Pastikan file memiliki kolom:\", required_columns)\n",
    "    else:\n",
    "        # Pilih kode saham tertentu (misalnya, \"SSIA\")\n",
    "        selected_stock = \"SSIA\"\n",
    "        df_selected = df_all[df_all[\"Kode Saham\"] == selected_stock].copy()\n",
    "\n",
    "        if df_selected.empty:\n",
    "            print(f\"⚠️ Tidak ada data untuk kode saham {selected_stock}\")\n",
    "        else:\n",
    "            # Urutkan data berdasarkan tanggal\n",
    "            df_selected = df_selected.sort_values(by=\"Tanggal\")\n",
    "\n",
    "            # **ISI TANGGAL KOSONG** agar grafik tetap kontinu\n",
    "            full_date_range = pd.date_range(start=df_selected[\"Tanggal\"].min(), end=df_selected[\"Tanggal\"].max())\n",
    "            df_selected = df_selected.set_index(\"Tanggal\").reindex(full_date_range).reset_index()\n",
    "            df_selected.rename(columns={\"index\": \"Tanggal\"}, inplace=True)\n",
    "\n",
    "            # **GUNAKAN DATA TERAKHIR UNTUK MENGISI KEKOSONGAN** (forward-fill)\n",
    "            df_selected.fillna(method=\"ffill\", inplace=True)\n",
    "\n",
    "            # Hitung indikator Frequency Analyzer\n",
    "            df_selected[\"Frequency Analyzer\"] = (df_selected[\"Volume\"] / df_selected[\"Frekuensi\"]) ** 3\n",
    "\n",
    "            # **Sesuaikan range Frequency Analyzer dengan harga saham**\n",
    "            min_price = df_selected[\"Terendah\"].min()\n",
    "            max_price = df_selected[\"Tertinggi\"].max()\n",
    "\n",
    "            min_fa = df_selected[\"Frequency Analyzer\"].min()\n",
    "            max_fa = df_selected[\"Frequency Analyzer\"].max()\n",
    "\n",
    "            # Normalisasi Frequency Analyzer agar berada dalam rentang harga saham\n",
    "            df_selected[\"Frequency Analyzer Scaled\"] = min_price + (\n",
    "                (df_selected[\"Frequency Analyzer\"] - min_fa) / (max_fa - min_fa) * (max_price - min_price)\n",
    "            )\n",
    "\n",
    "            # **Visualisasi Candlestick**\n",
    "            fig_candlestick = go.Figure()\n",
    "\n",
    "            fig_candlestick.add_trace(go.Candlestick(\n",
    "                x=df_selected[\"Tanggal\"],\n",
    "                open=df_selected[\"Open Price\"],\n",
    "                high=df_selected[\"Tertinggi\"],\n",
    "                low=df_selected[\"Terendah\"],\n",
    "                close=df_selected[\"Penutupan\"],\n",
    "                name=\"Candlestick\"\n",
    "            ))\n",
    "\n",
    "            fig_candlestick.update_layout(\n",
    "                title=f\"Candlestick Chart: {selected_stock}\",\n",
    "                xaxis_title=\"Tanggal\",\n",
    "                yaxis_title=\"Harga\",\n",
    "                template=\"plotly_dark\",\n",
    "                xaxis_rangeslider_visible=False  # Hapus rangeslider agar lebih bersih\n",
    "            )\n",
    "\n",
    "            # **Visualisasi Frequency Analyzer dengan Overlay Harga**\n",
    "            fig_analyzer = go.Figure()\n",
    "\n",
    "            # Garis Frequency Analyzer (dalam skala harga saham)\n",
    "            fig_analyzer.add_trace(go.Scatter(\n",
    "                x=df_selected[\"Tanggal\"],\n",
    "                y=df_selected[\"Frequency Analyzer Scaled\"],\n",
    "                mode=\"lines\",\n",
    "                name=\"Frequency Analyzer\",\n",
    "                line=dict(color=\"green\", width=1)\n",
    "            ))\n",
    "\n",
    "            # Overlay Harga (Harga Penutupan)\n",
    "            fig_analyzer.add_trace(go.Scatter(\n",
    "                x=df_selected[\"Tanggal\"],\n",
    "                y=df_selected[\"Penutupan\"],\n",
    "                mode=\"lines\",\n",
    "                name=\"Harga Penutupan\",\n",
    "                line=dict(color=\"orange\", width=1,)  # Garis putus-putus untuk harga\n",
    "            ))\n",
    "\n",
    "            fig_analyzer.update_layout(\n",
    "                title=f\"Frequency Analyzer with Price Overlay\",\n",
    "                xaxis_title=\"Tanggal\",\n",
    "                yaxis_title=\"Harga\",\n",
    "                template=\"plotly_dark\"\n",
    "            )\n",
    "\n",
    "            # **Tampilkan Chart**\n",
    "            fig_candlestick.show()\n",
    "            fig_analyzer.show()"
   ]
  },
  {
   "cell_type": "code",
   "execution_count": 18,
   "metadata": {},
   "outputs": [
    {
     "name": "stdout",
     "output_type": "stream",
     "text": [
      "📅 Mengambil data untuk tanggal 2024-11-01...\n",
      "📅 Mengambil data untuk tanggal 2024-11-02...\n",
      "📅 Mengambil data untuk tanggal 2024-11-03...\n",
      "📅 Mengambil data untuk tanggal 2024-11-04...\n",
      "📅 Mengambil data untuk tanggal 2024-11-05...\n",
      "📅 Mengambil data untuk tanggal 2024-11-06...\n",
      "📅 Mengambil data untuk tanggal 2024-11-07...\n",
      "📅 Mengambil data untuk tanggal 2024-11-08...\n",
      "📅 Mengambil data untuk tanggal 2024-11-09...\n",
      "📅 Mengambil data untuk tanggal 2024-11-10...\n",
      "📅 Mengambil data untuk tanggal 2024-11-11...\n",
      "📅 Mengambil data untuk tanggal 2024-11-12...\n",
      "📅 Mengambil data untuk tanggal 2024-11-13...\n",
      "📅 Mengambil data untuk tanggal 2024-11-14...\n",
      "📅 Mengambil data untuk tanggal 2024-11-15...\n",
      "📅 Mengambil data untuk tanggal 2024-11-16...\n",
      "📅 Mengambil data untuk tanggal 2024-11-17...\n",
      "📅 Mengambil data untuk tanggal 2024-11-18...\n",
      "📅 Mengambil data untuk tanggal 2024-11-19...\n",
      "📅 Mengambil data untuk tanggal 2024-11-20...\n",
      "📅 Mengambil data untuk tanggal 2024-11-21...\n",
      "📅 Mengambil data untuk tanggal 2024-11-22...\n",
      "📅 Mengambil data untuk tanggal 2024-11-23...\n",
      "📅 Mengambil data untuk tanggal 2024-11-24...\n",
      "📅 Mengambil data untuk tanggal 2024-11-25...\n",
      "📅 Mengambil data untuk tanggal 2024-11-26...\n",
      "📅 Mengambil data untuk tanggal 2024-11-27...\n",
      "📅 Mengambil data untuk tanggal 2024-11-28...\n",
      "📅 Mengambil data untuk tanggal 2024-11-29...\n",
      "📅 Mengambil data untuk tanggal 2024-11-30...\n",
      "📅 Mengambil data untuk tanggal 2024-12-01...\n",
      "📅 Mengambil data untuk tanggal 2024-12-02...\n",
      "📅 Mengambil data untuk tanggal 2024-12-03...\n",
      "📅 Mengambil data untuk tanggal 2024-12-04...\n",
      "📅 Mengambil data untuk tanggal 2024-12-05...\n",
      "📅 Mengambil data untuk tanggal 2024-12-06...\n",
      "📅 Mengambil data untuk tanggal 2024-12-07...\n",
      "📅 Mengambil data untuk tanggal 2024-12-08...\n",
      "📅 Mengambil data untuk tanggal 2024-12-09...\n",
      "📅 Mengambil data untuk tanggal 2024-12-10...\n",
      "📅 Mengambil data untuk tanggal 2024-12-11...\n",
      "📅 Mengambil data untuk tanggal 2024-12-12...\n",
      "📅 Mengambil data untuk tanggal 2024-12-13...\n",
      "📅 Mengambil data untuk tanggal 2024-12-14...\n",
      "📅 Mengambil data untuk tanggal 2024-12-15...\n",
      "📅 Mengambil data untuk tanggal 2024-12-16...\n",
      "📅 Mengambil data untuk tanggal 2024-12-17...\n",
      "📅 Mengambil data untuk tanggal 2024-12-18...\n",
      "📅 Mengambil data untuk tanggal 2024-12-19...\n",
      "📅 Mengambil data untuk tanggal 2024-12-20...\n",
      "📅 Mengambil data untuk tanggal 2024-12-21...\n",
      "📅 Mengambil data untuk tanggal 2024-12-22...\n",
      "📅 Mengambil data untuk tanggal 2024-12-23...\n",
      "📅 Mengambil data untuk tanggal 2024-12-24...\n",
      "📅 Mengambil data untuk tanggal 2024-12-25...\n",
      "📅 Mengambil data untuk tanggal 2024-12-26...\n",
      "📅 Mengambil data untuk tanggal 2024-12-27...\n",
      "📅 Mengambil data untuk tanggal 2024-12-28...\n",
      "📅 Mengambil data untuk tanggal 2024-12-29...\n",
      "📅 Mengambil data untuk tanggal 2024-12-30...\n",
      "📅 Mengambil data untuk tanggal 2024-12-31...\n",
      "📅 Mengambil data untuk tanggal 2025-01-01...\n",
      "📅 Mengambil data untuk tanggal 2025-01-02...\n",
      "📅 Mengambil data untuk tanggal 2025-01-03...\n",
      "📅 Mengambil data untuk tanggal 2025-01-04...\n",
      "📅 Mengambil data untuk tanggal 2025-01-05...\n",
      "📅 Mengambil data untuk tanggal 2025-01-06...\n",
      "📅 Mengambil data untuk tanggal 2025-01-07...\n",
      "📅 Mengambil data untuk tanggal 2025-01-08...\n",
      "📅 Mengambil data untuk tanggal 2025-01-09...\n",
      "📅 Mengambil data untuk tanggal 2025-01-10...\n",
      "📅 Mengambil data untuk tanggal 2025-01-11...\n",
      "📅 Mengambil data untuk tanggal 2025-01-12...\n",
      "📅 Mengambil data untuk tanggal 2025-01-13...\n",
      "📅 Mengambil data untuk tanggal 2025-01-14...\n",
      "📅 Mengambil data untuk tanggal 2025-01-15...\n",
      "📅 Mengambil data untuk tanggal 2025-01-16...\n",
      "📅 Mengambil data untuk tanggal 2025-01-17...\n",
      "📅 Mengambil data untuk tanggal 2025-01-18...\n",
      "📅 Mengambil data untuk tanggal 2025-01-19...\n",
      "📅 Mengambil data untuk tanggal 2025-01-20...\n",
      "📅 Mengambil data untuk tanggal 2025-01-21...\n",
      "📅 Mengambil data untuk tanggal 2025-01-22...\n",
      "📅 Mengambil data untuk tanggal 2025-01-23...\n",
      "📅 Mengambil data untuk tanggal 2025-01-24...\n",
      "📅 Mengambil data untuk tanggal 2025-01-25...\n",
      "📅 Mengambil data untuk tanggal 2025-01-26...\n",
      "📅 Mengambil data untuk tanggal 2025-01-27...\n",
      "📅 Mengambil data untuk tanggal 2025-01-28...\n",
      "📅 Mengambil data untuk tanggal 2025-01-29...\n",
      "📅 Mengambil data untuk tanggal 2025-01-30...\n",
      "📅 Mengambil data untuk tanggal 2025-01-31...\n",
      "📅 Mengambil data untuk tanggal 2025-02-01...\n",
      "📅 Mengambil data untuk tanggal 2025-02-02...\n",
      "📅 Mengambil data untuk tanggal 2025-02-03...\n",
      "📅 Mengambil data untuk tanggal 2025-02-04...\n",
      "📅 Mengambil data untuk tanggal 2025-02-05...\n",
      "📅 Mengambil data untuk tanggal 2025-02-06...\n",
      "📅 Mengambil data untuk tanggal 2025-02-07...\n",
      "📅 Mengambil data untuk tanggal 2025-02-08...\n",
      "📅 Mengambil data untuk tanggal 2025-02-09...\n",
      "📅 Mengambil data untuk tanggal 2025-02-10...\n",
      "📅 Mengambil data untuk tanggal 2025-02-11...\n",
      "📅 Mengambil data untuk tanggal 2025-02-12...\n",
      "📅 Mengambil data untuk tanggal 2025-02-13...\n",
      "📅 Mengambil data untuk tanggal 2025-02-14...\n",
      "📅 Mengambil data untuk tanggal 2025-02-15...\n",
      "📅 Mengambil data untuk tanggal 2025-02-16...\n",
      "📅 Mengambil data untuk tanggal 2025-02-17...\n",
      "📅 Mengambil data untuk tanggal 2025-02-18...\n",
      "📅 Mengambil data untuk tanggal 2025-02-19...\n",
      "📅 Mengambil data untuk tanggal 2025-02-20...\n",
      "📅 Mengambil data untuk tanggal 2025-02-21...\n",
      "📅 Mengambil data untuk tanggal 2025-02-22...\n",
      "📅 Mengambil data untuk tanggal 2025-02-23...\n",
      "📅 Mengambil data untuk tanggal 2025-02-24...\n",
      "📅 Mengambil data untuk tanggal 2025-02-25...\n",
      "📅 Mengambil data untuk tanggal 2025-02-26...\n",
      "📅 Mengambil data untuk tanggal 2025-02-27...\n",
      "📅 Mengambil data untuk tanggal 2025-02-28...\n",
      "📅 Mengambil data untuk tanggal 2025-03-01...\n",
      "📅 Mengambil data untuk tanggal 2025-03-02...\n",
      "📅 Mengambil data untuk tanggal 2025-03-03...\n",
      "📅 Mengambil data untuk tanggal 2025-03-04...\n",
      "📅 Mengambil data untuk tanggal 2025-03-05...\n",
      "📅 Mengambil data untuk tanggal 2025-03-06...\n",
      "📅 Mengambil data untuk tanggal 2025-03-07...\n",
      "📅 Mengambil data untuk tanggal 2025-03-08...\n",
      "📅 Mengambil data untuk tanggal 2025-03-09...\n",
      "📅 Mengambil data untuk tanggal 2025-03-10...\n",
      "📅 Mengambil data untuk tanggal 2025-03-11...\n",
      "📅 Mengambil data untuk tanggal 2025-03-12...\n",
      "\n",
      "✅ Data berhasil disimpan ke data_saham_adjusted_open.csv dengan 81696 baris data!\n"
     ]
    }
   ],
   "source": [
    "import requests\n",
    "import csv\n",
    "from datetime import datetime, timedelta\n",
    "\n",
    "# API Endpoint\n",
    "url = \"https://pasardana.id/api/StockSearchResult/GetAll\"\n",
    "\n",
    "# Rentang tanggal yang diinginkan\n",
    "start_date = datetime(2024, 11, 1)  \n",
    "end_date = datetime(2025, 3, 12)    \n",
    "\n",
    "# Header untuk request API\n",
    "headers = {\n",
    "    \"Accept\": \"application/json\",\n",
    "    \"Accept-Encoding\": \"gzip\",\n",
    "    \"Host\": \"pasardana.id\",\n",
    "    \"Pragma\": \"no-cache\",\n",
    "    \"Referer\": \"https://pasardana.id/stock/search\",\n",
    "    \"User-Agent\": \"Mozilla/5.0 (Windows NT 10.0; Win64; x64) AppleWebKit/537.36 (KHTML, seperti Gecko) Chrome/109.0.0.0 Safari/537.36\",\n",
    "}\n",
    "\n",
    "# Simpan semua data saham\n",
    "all_data = []\n",
    "\n",
    "# Looping untuk mengambil data per hari\n",
    "for i in range((end_date - start_date).days + 1):\n",
    "    tanggal_dicari = (start_date + timedelta(days=i)).strftime(\"%Y-%m-%d\")\n",
    "    print(f\"📅 Mengambil data untuk tanggal {tanggal_dicari}...\")\n",
    "\n",
    "    # Parameter request API\n",
    "    params = {\n",
    "        \"search\": \"\",  # Kosong agar mengambil semua saham\n",
    "        \"page\": 1,\n",
    "        \"per_page\": 1000,  # Ambil sebanyak mungkin saham dalam satu request\n",
    "        \"sort_by\": \"Code\",\n",
    "        \"sort_direction\": \"asc\",\n",
    "        \"date\": tanggal_dicari,\n",
    "    }\n",
    "\n",
    "    # Kirim request ke API\n",
    "    response = requests.get(url, params=params, headers=headers)\n",
    "\n",
    "    # Cek apakah request berhasil\n",
    "    if response.status_code == 200:\n",
    "        data = response.json()  # Data berupa list saham\n",
    "\n",
    "        # Simpan hanya \"Code\", \"Date\", dan \"AdjustedOpenPrice\"\n",
    "        filtered_data = [\n",
    "            {\n",
    "                \"Code\": stock[\"Code\"],\n",
    "                \"Date\": stock[\"LastDate\"][:10],  # Format YYYY-MM-DD\n",
    "                \"AdjustedOpenPrice\": stock.get(\"AdjustedOpenPrice\", 0),\n",
    "            }\n",
    "            for stock in data\n",
    "            if stock[\"LastDate\"][:10] == tanggal_dicari  # Pastikan tanggal sesuai\n",
    "        ]\n",
    "\n",
    "        # Tambahkan ke daftar semua data\n",
    "        all_data.extend(filtered_data)\n",
    "    else:\n",
    "        print(f\"❌ Error {response.status_code} saat mengambil data tanggal {tanggal_dicari}, Pesan: {response.text}\")\n",
    "\n",
    "# Nama file CSV untuk menyimpan data\n",
    "csv_filename = \"data_saham_adjusted_open.csv\"\n",
    "\n",
    "# Simpan ke file CSV\n",
    "with open(csv_filename, mode=\"w\", newline=\"\", encoding=\"utf-8\") as file:\n",
    "    writer = csv.DictWriter(file, fieldnames=[\"Code\", \"Date\", \"AdjustedOpenPrice\"])\n",
    "    writer.writeheader()  # Tulis header CSV\n",
    "    writer.writerows(all_data)  # Tulis data saham\n",
    "\n",
    "print(f\"\\n✅ Data berhasil disimpan ke {csv_filename} dengan {len(all_data)} baris data!\")"
   ]
  },
  {
   "cell_type": "code",
   "execution_count": 4,
   "metadata": {},
   "outputs": [
    {
     "name": "stdout",
     "output_type": "stream",
     "text": [
      "✅ Pine Script berhasil dibuat dan disimpan sebagai frequency_analyzer.pine\n"
     ]
    }
   ],
   "source": [
    "import pandas as pd\n",
    "\n",
    "# Baca data dari CSV\n",
    "df = pd.read_csv(\"data_saham_ACES.csv\")\n",
    "\n",
    "# Hitung Frequency Analyzer\n",
    "df[\"FrequencyAnalyzer\"] = df[\"Volume\"] / (df[\"Frequency\"] ** 3)\n",
    "\n",
    "# Urutkan berdasarkan tanggal\n",
    "df = df.sort_values(by=\"Date\")\n",
    "\n",
    "# Buat Pine Script Header\n",
    "pine_script = \"\"\"\\\n",
    "//@version=5\n",
    "indicator(\"Frequency Analyzer vs Close\", overlay=false)\n",
    "\n",
    "fa_data = array.new_float()\n",
    "\"\"\"\n",
    "\n",
    "# Tambahkan array analyzer ke dalam Pine Script\n",
    "for val in df[\"FrequencyAnalyzer\"]:\n",
    "    pine_script += f\"array.push(fa_data, {val:.4f})\\n\"\n",
    "\n",
    "# Tambahkan logika plotting\n",
    "pine_script += \"\"\"\n",
    "index = bar_index - (array.size(fa_data) - 1)\n",
    "float fa_value = na\n",
    "if index >= 0 and index < array.size(fa_data)\n",
    "    fa_value := array.get(fa_data, index)\n",
    "\n",
    "// Plot Frequency Analyzer (sumbu kiri)\n",
    "plot(fa_value, title=\"Frequency Analyzer\", color=color.black, linewidth=2)\n",
    "\n",
    "// Plot harga close dari TradingView (sumbu kanan)\n",
    "plot(close, title=\"Close Price\", color=color.green, linewidth=2, axis=axis.right)\n",
    "\"\"\"\n",
    "\n",
    "# Simpan ke file .pine\n",
    "with open(\"frequency_analyzer.pine\", \"w\") as f:\n",
    "    f.write(pine_script)\n",
    "\n",
    "print(\"✅ Pine Script berhasil dibuat dan disimpan sebagai frequency_analyzer.pine\")\n"
   ]
  },
  {
   "cell_type": "code",
   "execution_count": 4,
   "metadata": {},
   "outputs": [
    {
     "name": "stdout",
     "output_type": "stream",
     "text": [
      "[[1747008000000, '104118.00000000', '105819.45000000', '100718.37000000', '102791.32000000', '31272.77792000', 1747094399999, '3242348937.38306910', 5298407, '16455.99797000', '1707457796.58813950', '0'], [1747094400000, '102791.32000000', '104976.25000000', '101429.70000000', '104103.72000000', '21253.42409000', 1747180799999, '2197244118.15236690', 3703531, '10705.97845000', '1106609664.70779500', '0'], [1747180800000, '104103.72000000', '104356.95000000', '102602.05000000', '103507.82000000', '16452.90810000', 1747267199999, '1704708279.38841090', 3025221, '8026.03333000', '831783471.65436100', '0'], [1747267200000, '103507.83000000', '104192.70000000', '101383.07000000', '103763.71000000', '17998.98604000', 1747353599999, '1850183474.52920360', 4139477, '8475.18036000', '871244345.56413600', '0'], [1747353600000, '103763.71000000', '104550.33000000', '103100.49000000', '103542.44000000', '15352.71199000', 1747439999999, '1594550287.39028940', 3143029, '7402.97409000', '769096334.75914240', '0']]\n"
     ]
    },
    {
     "name": "stderr",
     "output_type": "stream",
     "text": [
      "c:\\Users\\User\\AppData\\Local\\anaconda3\\Lib\\site-packages\\urllib3\\connectionpool.py:1099: InsecureRequestWarning: Unverified HTTPS request is being made to host 'api.binance.com'. Adding certificate verification is strongly advised. See: https://urllib3.readthedocs.io/en/latest/advanced-usage.html#tls-warnings\n",
      "  warnings.warn(\n"
     ]
    }
   ],
   "source": [
    "import requests\n",
    "import certifi\n",
    "\n",
    "url = \"https://api.binance.com/api/v3/klines\"\n",
    "params = {\n",
    "    \"symbol\": \"BTCUSDT\",\n",
    "    \"interval\": \"1d\",\n",
    "    \"limit\": 5\n",
    "}\n",
    "\n",
    "try:\n",
    "    response = requests.get(url, params=params, timeout=10, verify=False)\n",
    "    response.raise_for_status()\n",
    "    print(response.json())\n",
    "except requests.exceptions.RequestException as e:\n",
    "    print(\"Error:\", e)\n"
   ]
  }
 ],
 "metadata": {
  "kernelspec": {
   "display_name": "base",
   "language": "python",
   "name": "python3"
  },
  "language_info": {
   "codemirror_mode": {
    "name": "ipython",
    "version": 3
   },
   "file_extension": ".py",
   "mimetype": "text/x-python",
   "name": "python",
   "nbconvert_exporter": "python",
   "pygments_lexer": "ipython3",
   "version": "3.12.3"
  }
 },
 "nbformat": 4,
 "nbformat_minor": 2
}
